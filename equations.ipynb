{
 "cells": [
  {
   "cell_type": "markdown",
   "id": "61bcaf14",
   "metadata": {},
   "source": [
    "# Models of theoretical Physics\n",
    "***\n",
    "\n",
    "\n",
    "## Important Equations:"
   ]
  },
  {
   "cell_type": "markdown",
   "id": "53fbb6c4",
   "metadata": {},
   "source": [
    "* normalization &emsp; $\\displaystyle N = \\int_\\mathbb{R} \\rho (x) d^dx$"
   ]
  },
  {
   "cell_type": "markdown",
   "id": "d6779917",
   "metadata": {},
   "source": [
    "* continuity &emsp; $ \\displaystyle \\frac{\\partial}{\\partial t} \\rho (x, t) = \\vec{\\nabla} \\cdot \\vec{j} (x, t) $"
   ]
  },
  {
   "cell_type": "markdown",
   "id": "614e403b",
   "metadata": {},
   "source": [
    "* Fick's law &emsp; $\\displaystyle \\vec{j} (x, t) = -D \\cdot \\vec{\\nabla} \\rho(x, t)$ $+$ less dominant term"
   ]
  },
  {
   "cell_type": "markdown",
   "id": "0727fa07",
   "metadata": {},
   "source": [
    "* Diffusion equation &emsp; $ \\displaystyle \\frac{\\partial}{\\partial t} \\rho (x, t) = D \\cdot \\nabla^2  \\rho(x, t)$"
   ]
  },
  {
   "cell_type": "markdown",
   "id": "693156bf",
   "metadata": {},
   "source": [
    "* Solution of Diff. eq. in 1-d &emsp;\n",
    "    * $\\displaystyle \\rho(x, t) = \\int dx_0 W(x, t|x_0, t_0) \\rho(x_0, t_0)$\n",
    "    * $\\displaystyle W(x, t|x_0, t_0) = \\frac{1}{\\sqrt{4 \\pi D(t-t_0)}} \\cdot \\exp{{\\frac{-(x-x_0)^2}{4D(t-t_0)}}}$"
   ]
  },
  {
   "cell_type": "markdown",
   "id": "f64f209e",
   "metadata": {},
   "source": [
    "* generalized Gaussian &emsp; $ \\displaystyle Z(A) = \\int d^nx \\; \\exp\\left({-\\frac{1}{2} \\vec{x}^T A \\vec{x}}\\right) = (2 \\pi)^{\\frac{n}{2}}(detA)^{-\\frac{1}{2}}$"
   ]
  },
  {
   "cell_type": "markdown",
   "id": "dbda5556",
   "metadata": {},
   "source": [
    "* more general &emsp; $\\displaystyle Z(A, \\vec{b}) = \\int d^nx \\; \\exp\\left({-\\frac{1}{2} \\vec{x}^T A \\vec{x}+\\vec{b}\\vec{a}}\\;\\right) = (2 \\pi)^{\\frac{n}{2}}(detA)^{-\\frac{1}{2}} \\exp\\left(\\frac{1}{2}\\vec{b}^T C \\vec{b}\\right) $"
   ]
  },
  {
   "cell_type": "markdown",
   "id": "83255d86",
   "metadata": {},
   "source": [
    "* Hubbard-Stratonovich transformation &emsp; $ \\displaystyle \\exp\\left( \\frac{c}{2} b^2 \\right) = \\frac{1}{\\sqrt{2 \\pi C}} \\int_{\\mathbb{R}}dx \\; \\exp\\left( \\frac{-x^2}{2C}+bx \\right) $"
   ]
  },
  {
   "cell_type": "markdown",
   "id": "6460a60a",
   "metadata": {},
   "source": [
    "* probabilty density &emsp; $ \\displaystyle p(\\vec{x}) = \\frac{1}{Z[A, 0]} \\exp\\left( -\\frac{1}{2} \\vec{x}^T A \\vec{x} \\right) $\n",
    "    * $Z[A, b]$ is a generating function"
   ]
  },
  {
   "cell_type": "markdown",
   "id": "83b7e040",
   "metadata": {},
   "source": [
    "* correlations functions &emsp; $ <x_{k_{1}},...,x_{k_l}> $\n",
    "    * if l is odd: $ <x_{k_{1}},...,x_{k_l}>  = 0$\n",
    "    * if l is even and $ = 2 $: $ <x_{k_{a}},x_{k_{b}},x_{k_{c}},x_{k_{d}}> = C_{ab}C_{cd} + C_{ac}C_{bd} + C_{ad}C_{cdb} $\n",
    "    * for l even and $ > 2 $: $ <x_{k_{1}},...,x_{k_l}> = \\sum{_\\textrm{all possible pairs}} C_{k_1}...C_{k_{l/2}}$"
   ]
  },
  {
   "cell_type": "markdown",
   "id": "fa7df262",
   "metadata": {},
   "source": [
    "* steepest descent integral &emsp; $ \\displaystyle I(\\lambda) = \\int d^n x \\; \\exp\\left( \\frac{-F(\\vec{x})}{\\lambda} \\right)$ \n",
    "    * solution $ I(\\lambda) \\overset{\\mathrm{\\lambda \\rightarrow 0}}{=} (2 \\pi \\lambda)^{\\frac{n}{2}} \\left[ det\\left(\\partial^2_{x_ix_j}F(x_c)\\right)\\right]^{-\\frac{1}{2}} \\cdot \\exp\\left( -\\frac{F(x_c)}{\\lambda} \\right)$\n",
    "    "
   ]
  },
  {
   "cell_type": "markdown",
   "id": "f5af2e96",
   "metadata": {},
   "source": [
    "* Fourier Transformation &emsp; $\\displaystyle \\mathcal{F}(f(x)) = \\stackrel{\\sim}{f}(k) = \\int_{-\\infty}^{\\infty} e^{-ikx}f(x)dx$"
   ]
  },
  {
   "cell_type": "markdown",
   "id": "a6d6df9f",
   "metadata": {},
   "source": [
    "* inverse Fourier &emsp; $\\displaystyle \\mathcal{F}(f(x))^{-1} = \\frac{1}{2 \\pi} \\int_{-\\infty}^{\\infty} e^{ikx}\\stackrel{\\sim}{f}(k)dk$"
   ]
  },
  {
   "cell_type": "markdown",
   "id": "8dddc12e",
   "metadata": {},
   "source": [
    "* Fourier & Dirac-Delta &emsp; $\\displaystyle \\mathcal{F}(\\delta)(x) = \\int_{-\\infty}^{\\infty}e^{-ikx}\\delta (x) dx$  = 1"
   ]
  },
  {
   "cell_type": "markdown",
   "id": "3f98880c",
   "metadata": {},
   "source": [
    "* inverse Fourie & Dirac-Delta &emsp; $ \\displaystyle \\delta (x) = \\mathcal{F}^{-1}(1) = \\frac{1}{2 \\pi} \\int_{-\\infty}^{\\infty}e^{ikx}dk$"
   ]
  },
  {
   "cell_type": "markdown",
   "id": "4be21ad4",
   "metadata": {},
   "source": [
    "* Fresnel integral (FT of Schrödinger eq.) &emsp; $ \\displaystyle I(a,b) = \\int_{-\\infty}^{\\infty}\\frac{dk}{2\\pi} \\exp\\left( -iak^2-ibk \\right) = \\frac{\\exp\\left( \\frac{ib^2}{4a} \\right)}{\\sqrt{(4 \\pi a i)}}$"
   ]
  },
  {
   "cell_type": "markdown",
   "id": "a859ae90",
   "metadata": {},
   "source": [
    "* indented integrals in $\\mathbb{C}$ plane &emsp; $ \\underset{\\mathrm{\\lambda \\rightarrow 0}}{lim} \\frac{1}{x-x_0-i \\epsilon} = P(\\frac{1}{x-x_0}) + i \\pi \\delta(x-x_0)$"
   ]
  },
  {
   "cell_type": "markdown",
   "id": "fcd5d94f",
   "metadata": {},
   "source": [
    "* shorthand version for analytical f(x) &emsp;$ \\displaystyle \\underset{\\mathrm{\\lambda \\rightarrow 0}}{lim} \\int_{-\\infty}^{\\infty}\\frac{f(x)}{x-x_0-i \\epsilon}dx = P \\int_{-\\infty}^{\\infty}\\frac{f(x)}{x-x_0}dx + i \\pi f(x_0)$"
   ]
  },
  {
   "cell_type": "code",
   "execution_count": null,
   "id": "ea00836f",
   "metadata": {},
   "outputs": [],
   "source": []
  }
 ],
 "metadata": {
  "kernelspec": {
   "display_name": "Python 3",
   "language": "python",
   "name": "python3"
  },
  "language_info": {
   "codemirror_mode": {
    "name": "ipython",
    "version": 3
   },
   "file_extension": ".py",
   "mimetype": "text/x-python",
   "name": "python",
   "nbconvert_exporter": "python",
   "pygments_lexer": "ipython3",
   "version": "3.8.8"
  }
 },
 "nbformat": 4,
 "nbformat_minor": 5
}
