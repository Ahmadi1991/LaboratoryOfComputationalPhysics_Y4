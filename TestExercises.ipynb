{
 "cells": [
  {
   "cell_type": "markdown",
   "id": "9f2bcfb6",
   "metadata": {},
   "source": [
    "## Exercise 1: MickeyMouse ✅"
   ]
  },
  {
   "cell_type": "code",
   "execution_count": 52,
   "id": "638cf6b5",
   "metadata": {},
   "outputs": [
    {
     "name": "stdout",
     "output_type": "stream",
     "text": [
      "[1, 2, 'Mickey', 4, 'Mouse', 'Mickey', 7, 8, 'Mickey', 'Mouse', 11, 'Mickey', 13, 14, 'MickeyMouse', 16, 17, 'Mickey', 19, 'Mouse', 'Mickey', 22, 23, 'Mickey', 'Mouse', 26, 'Mickey', 28, 29, 'MickeyMouse', 31, 32, 'Mickey', 34, 'Mouse', 'Mickey', 37, 38, 'Mickey', 'Mouse', 41, 'Mickey', 43, 44, 'MickeyMouse', 46, 47, 'Mickey', 49, 'Mouse', 'Mickey', 52, 53, 'Mickey', 'Mouse', 56, 'Mickey', 58, 59, 'MickeyMouse', 61, 62, 'Mickey', 64, 'Mouse', 'Mickey', 67, 68, 'Mickey', 'Mouse', 71, 'Mickey', 73, 74, 'MickeyMouse', 76, 77, 'Mickey', 79, 'Mouse', 'Mickey', 82, 83, 'Mickey', 'Mouse', 86, 'Mickey', 88, 89, 'MickeyMouse', 91, 92, 'Mickey', 94, 'Mouse', 'Mickey', 97, 98, 'Mickey', 'Mouse']\n"
     ]
    },
    {
     "ename": "TypeError",
     "evalue": "'list' object is not callable",
     "output_type": "error",
     "traceback": [
      "\u001b[0;31m---------------------------------------------------------------------------\u001b[0m",
      "\u001b[0;31mTypeError\u001b[0m                                 Traceback (most recent call last)",
      "\u001b[0;32m<ipython-input-52-02b723f50e85>\u001b[0m in \u001b[0;36m<module>\u001b[0;34m\u001b[0m\n\u001b[1;32m     16\u001b[0m \u001b[0;34m\u001b[0m\u001b[0m\n\u001b[1;32m     17\u001b[0m \u001b[0mprint\u001b[0m\u001b[0;34m(\u001b[0m\u001b[0mNoTuple\u001b[0m\u001b[0;34m)\u001b[0m\u001b[0;34m\u001b[0m\u001b[0;34m\u001b[0m\u001b[0m\n\u001b[0;32m---> 18\u001b[0;31m \u001b[0mtuplex\u001b[0m \u001b[0;34m=\u001b[0m \u001b[0mtuple\u001b[0m\u001b[0;34m(\u001b[0m\u001b[0mNoTuple\u001b[0m\u001b[0;34m)\u001b[0m\u001b[0;34m\u001b[0m\u001b[0;34m\u001b[0m\u001b[0m\n\u001b[0m\u001b[1;32m     19\u001b[0m \u001b[0mprint\u001b[0m\u001b[0;34m(\u001b[0m\u001b[0mtuplex\u001b[0m\u001b[0;34m)\u001b[0m\u001b[0;34m\u001b[0m\u001b[0;34m\u001b[0m\u001b[0m\n",
      "\u001b[0;31mTypeError\u001b[0m: 'list' object is not callable"
     ]
    }
   ],
   "source": [
    "NoTuple = []\n",
    "for i in range(1, 101):\n",
    "    if i%5 == 0 and i%3 == 0:\n",
    "#        print('MickeyMouse')\n",
    "        NoTuple.append('MickeyMouse')\n",
    "    elif i%5 == 0:\n",
    "#        print('Mouse')\n",
    "        NoTuple.append('Mouse')\n",
    "    elif i%3 == 0:\n",
    "#        print('Mickey')\n",
    "        NoTuple.append('Mickey')    \n",
    "    else:\n",
    "#        print(i)\n",
    "        NoTuple.append(i)\n",
    "    \n",
    "\n",
    "print(NoTuple)"
   ]
  },
  {
   "cell_type": "code",
   "execution_count": 39,
   "id": "68eea615",
   "metadata": {
    "scrolled": false
   },
   "outputs": [
    {
     "name": "stdout",
     "output_type": "stream",
     "text": [
      "[1, 2, 'Donald', 4, 'Duck', 'Donald', 7, 8, 'Donald', 'Duck', 11, 'Donald', 13, 14, 'MickeyMouse', 16, 17, 'Donald', 19, 'Duck', 'Donald', 22, 23, 'Donald', 'Duck', 26, 'Donald', 28, 29, 'MickeyMouse', 31, 32, 'Donald', 34, 'Duck', 'Donald', 37, 38, 'Donald', 'Duck', 41, 'Donald', 43, 44, 'MickeyMouse', 46, 47, 'Donald', 49, 'Duck', 'Donald', 52, 53, 'Donald', 'Duck', 56, 'Donald', 58, 59, 'MickeyMouse', 61, 62, 'Donald', 64, 'Duck', 'Donald', 67, 68, 'Donald', 'Duck', 71, 'Donald', 73, 74, 'MickeyMouse', 76, 77, 'Donald', 79, 'Duck', 'Donald', 82, 83, 'Donald', 'Duck', 86, 'Donald', 88, 89, 'MickeyMouse', 91, 92, 'Donald', 94, 'Duck', 'Donald', 97, 98, 'Donald', 'Duck']\n"
     ]
    }
   ],
   "source": [
    "for i in range(len(NoTuple)):\n",
    "    if NoTuple[i] == 'Mickey':\n",
    "        NoTuple[i] = 'Donald'\n",
    "    elif NoTuple[i] == 'Mouse':\n",
    "        NoTuple[i] = 'Duck'\n",
    "print(NoTuple)"
   ]
  },
  {
   "cell_type": "markdown",
   "id": "44f99364",
   "metadata": {},
   "source": [
    "## Exercise 2: Swap-Function ✅"
   ]
  },
  {
   "cell_type": "code",
   "execution_count": 40,
   "id": "d22d7edb",
   "metadata": {},
   "outputs": [
    {
     "name": "stdout",
     "output_type": "stream",
     "text": [
      "(5, 7)\n"
     ]
    }
   ],
   "source": [
    "def my_function(a, b):\n",
    "        return b, a\n",
    "\n",
    "x = 7\n",
    "y = 5\n",
    "\n",
    "my_function(x, y)\n",
    "\n",
    "print(my_function(x, y))"
   ]
  },
  {
   "cell_type": "markdown",
   "id": "f7210d0d",
   "metadata": {},
   "source": [
    "## Exercise 3: Computing distance ✅"
   ]
  },
  {
   "cell_type": "code",
   "execution_count": 41,
   "id": "bcdbe536",
   "metadata": {},
   "outputs": [
    {
     "data": {
      "text/plain": [
       "5.0"
      ]
     },
     "execution_count": 41,
     "metadata": {},
     "output_type": "execute_result"
    }
   ],
   "source": [
    "from math import sqrt\n",
    "\n",
    "def distance(a, b):\n",
    "    return sqrt((a[0]-b[0]) **2 + (a[1]-b[1]) **2)\n",
    " \n",
    "w = (0, 3)  \n",
    "v = (4, 0)\n",
    "\n",
    "distance(w, v)                "
   ]
  },
  {
   "cell_type": "markdown",
   "id": "2ac60006",
   "metadata": {},
   "source": [
    "## Exercise 4: Counting letters ✅"
   ]
  },
  {
   "cell_type": "code",
   "execution_count": 42,
   "id": "eb7211e0",
   "metadata": {},
   "outputs": [],
   "source": [
    "s=\"Write a program that prints the numbers from 1 to 100. \\\n",
    "But for multiples of three print Mickey instead of the number and for the multiples of five print Mouse. \\\n",
    "For numbers which are multiples of both three and five print MickeyMouse\""
   ]
  },
  {
   "cell_type": "code",
   "execution_count": 43,
   "id": "16233d0e",
   "metadata": {},
   "outputs": [
    {
     "name": "stdout",
     "output_type": "stream",
     "text": [
      "12\n"
     ]
    }
   ],
   "source": [
    "def counting(M, s):\n",
    "    counter = 0\n",
    "    for i in s.lower():\n",
    "            if i == M:\n",
    "                counter += 1\n",
    "    print(counter)\n",
    "                \n",
    "            \n",
    "\n",
    "counting('m', s)             "
   ]
  },
  {
   "cell_type": "markdown",
   "id": "a93f0f5b",
   "metadata": {},
   "source": [
    "## Exercise 5: Isolating the unique ✅"
   ]
  },
  {
   "cell_type": "code",
   "execution_count": 44,
   "id": "5482ea60",
   "metadata": {},
   "outputs": [],
   "source": [
    "l = [36, 45, 58, 3, 74, 96, 64, 45, 31, 10, 24, 19, 33, 86, 99, 18, 63, 70, 85,\n",
    " 85, 63, 47, 56, 42, 70, 84, 88, 55, 20, 54, 8, 56, 51, 79, 81, 57, 37, 91,\n",
    " 1, 84, 84, 36, 66, 9, 89, 50, 42, 91, 50, 95, 90, 98, 39, 16, 82, 31, 92, 41,\n",
    " 45, 30, 66, 70, 34, 85, 94, 5, 3, 36, 72, 91, 84, 34, 87, 75, 53, 51, 20, 89, 51, 20]"
   ]
  },
  {
   "cell_type": "code",
   "execution_count": 57,
   "id": "72602572",
   "metadata": {},
   "outputs": [
    {
     "name": "stdout",
     "output_type": "stream",
     "text": [
      "[36, 45, 58, 3, 74, 96, 64, 31, 10, 24, 19, 33, 86, 99, 18, 63, 70, 85, 47, 56, 42, 84, 88, 55, 20, 54, 8, 51, 79, 81, 57, 37, 91, 1, 66, 9, 89, 50, 95, 90, 98, 39, 16, 82, 92, 41, 30, 34, 94, 5, 72, 87, 75, 53]\n"
     ]
    }
   ],
   "source": [
    "def unique(l):\n",
    "    list1 = ([])\n",
    "    for i in l:\n",
    "        if i not in list1:\n",
    "            list1.append(i)\n",
    "    return list1\n",
    "      \n",
    "print(unique(l))"
   ]
  },
  {
   "cell_type": "markdown",
   "id": "93758105",
   "metadata": {},
   "source": [
    "## Exercise 6: Combination of functions ✅"
   ]
  },
  {
   "cell_type": "code",
   "execution_count": 46,
   "id": "dff53544",
   "metadata": {},
   "outputs": [
    {
     "name": "stdout",
     "output_type": "stream",
     "text": [
      "64\n"
     ]
    }
   ],
   "source": [
    "def square(s):\n",
    "    return s **2\n",
    "\n",
    "def cube(s):\n",
    "    return s **3\n",
    "\n",
    "def sixth(s):\n",
    "    return square(cube(s))\n",
    "\n",
    "print(sixth(2))"
   ]
  },
  {
   "cell_type": "markdown",
   "id": "6db6c978",
   "metadata": {},
   "source": [
    "## Exercise 7: Cubes ✅"
   ]
  },
  {
   "cell_type": "code",
   "execution_count": 47,
   "id": "f40a18af",
   "metadata": {},
   "outputs": [
    {
     "name": "stdout",
     "output_type": "stream",
     "text": [
      "[0, 1, 8, 27, 64, 125, 216, 343, 512, 729, 1000]\n"
     ]
    }
   ],
   "source": [
    "def cube_loop():\n",
    "    list2 = ([])\n",
    "    for i in range(11):\n",
    "        list2.append(i **3)\n",
    "    return list2\n",
    "\n",
    "print(cube_loop())\n"
   ]
  },
  {
   "cell_type": "code",
   "execution_count": 48,
   "id": "b94b75d5",
   "metadata": {},
   "outputs": [
    {
     "name": "stdout",
     "output_type": "stream",
     "text": [
      "[0, 1, 8, 27, 64, 125, 216, 343, 512, 729, 1000]\n"
     ]
    }
   ],
   "source": [
    "def cube_list():\n",
    "    list3 = [*range(11)]\n",
    "    cube_list = [(i **3)for i in list3]\n",
    "    return cube_list\n",
    "    \n",
    "print(cube_list())"
   ]
  },
  {
   "cell_type": "markdown",
   "id": "540dc9fd",
   "metadata": {},
   "source": [
    "## Exercise 8: Nested list comprehension ❗️"
   ]
  },
  {
   "cell_type": "code",
   "execution_count": 77,
   "id": "bbda4dd3",
   "metadata": {},
   "outputs": [
    {
     "ename": "TypeError",
     "evalue": "unhashable type: 'list'",
     "output_type": "error",
     "traceback": [
      "\u001b[0;31m---------------------------------------------------------------------------\u001b[0m",
      "\u001b[0;31mTypeError\u001b[0m                                 Traceback (most recent call last)",
      "\u001b[0;32m<ipython-input-77-ceb5d75ed6b2>\u001b[0m in \u001b[0;36m<module>\u001b[0;34m\u001b[0m\n\u001b[1;32m      2\u001b[0m \u001b[0mmore_triple\u001b[0m \u001b[0;34m=\u001b[0m \u001b[0;34m[\u001b[0m\u001b[0;34m[\u001b[0m\u001b[0ma\u001b[0m\u001b[0;34m,\u001b[0m \u001b[0mb\u001b[0m\u001b[0;34m,\u001b[0m \u001b[0mc\u001b[0m\u001b[0;34m]\u001b[0m \u001b[0;32mfor\u001b[0m \u001b[0ma\u001b[0m  \u001b[0;32min\u001b[0m \u001b[0mrange\u001b[0m\u001b[0;34m(\u001b[0m\u001b[0;36m1\u001b[0m\u001b[0;34m,\u001b[0m \u001b[0;36m100\u001b[0m\u001b[0;34m)\u001b[0m \u001b[0;32mfor\u001b[0m \u001b[0mb\u001b[0m \u001b[0;32min\u001b[0m \u001b[0mrange\u001b[0m\u001b[0;34m(\u001b[0m\u001b[0;36m1\u001b[0m\u001b[0;34m,\u001b[0m \u001b[0;36m100\u001b[0m\u001b[0;34m)\u001b[0m \u001b[0;32mfor\u001b[0m \u001b[0mc\u001b[0m \u001b[0;32min\u001b[0m \u001b[0mrange\u001b[0m\u001b[0;34m(\u001b[0m\u001b[0;36m1\u001b[0m\u001b[0;34m,\u001b[0m \u001b[0;36m100\u001b[0m\u001b[0;34m)\u001b[0m \u001b[0;32mif\u001b[0m \u001b[0ma\u001b[0m \u001b[0;34m**\u001b[0m\u001b[0;36m2\u001b[0m \u001b[0;34m+\u001b[0m \u001b[0mb\u001b[0m \u001b[0;34m**\u001b[0m\u001b[0;36m2\u001b[0m \u001b[0;34m==\u001b[0m \u001b[0mc\u001b[0m \u001b[0;34m**\u001b[0m \u001b[0;36m2\u001b[0m\u001b[0;34m]\u001b[0m\u001b[0;34m\u001b[0m\u001b[0;34m\u001b[0m\u001b[0m\n\u001b[1;32m      3\u001b[0m \u001b[0;34m\u001b[0m\u001b[0m\n\u001b[0;32m----> 4\u001b[0;31m \u001b[0mmore_triple\u001b[0m \u001b[0;34m=\u001b[0m \u001b[0mlist\u001b[0m\u001b[0;34m(\u001b[0m\u001b[0mdict\u001b[0m\u001b[0;34m.\u001b[0m\u001b[0mfromkeys\u001b[0m\u001b[0;34m(\u001b[0m\u001b[0mmore_triple\u001b[0m\u001b[0;34m)\u001b[0m\u001b[0;34m)\u001b[0m\u001b[0;34m\u001b[0m\u001b[0;34m\u001b[0m\u001b[0m\n\u001b[0m\u001b[1;32m      5\u001b[0m \u001b[0;34m\u001b[0m\u001b[0m\n\u001b[1;32m      6\u001b[0m \u001b[0mprint\u001b[0m\u001b[0;34m(\u001b[0m\u001b[0mlist\u001b[0m\u001b[0;34m(\u001b[0m\u001b[0mset\u001b[0m\u001b[0;34m(\u001b[0m\u001b[0mmore_triple\u001b[0m\u001b[0;34m)\u001b[0m\u001b[0;34m)\u001b[0m\u001b[0;34m)\u001b[0m\u001b[0;34m\u001b[0m\u001b[0;34m\u001b[0m\u001b[0m\n",
      "\u001b[0;31mTypeError\u001b[0m: unhashable type: 'list'"
     ]
    }
   ],
   "source": [
    "triple = [[]]\n",
    "more_triple = [(a, b, c] for a  in range(1, 100) for b in range(1, 100) for c in range(1, 100) if a **2 + b **2 == c ** 2]\n",
    "\n",
    "more_triple = list(dict.fromkeys(more_triple))\n",
    "\n",
    "print(list(set(more_triple)))\n",
    "\n"
   ]
  },
  {
   "cell_type": "markdown",
   "id": "d1072598",
   "metadata": {},
   "source": [
    "## Exercise 9: Normalization ✅"
   ]
  },
  {
   "cell_type": "code",
   "execution_count": 51,
   "id": "8f8b77f0",
   "metadata": {},
   "outputs": [
    {
     "data": {
      "text/plain": [
       "[0.6, 0.8, 1.0]"
      ]
     },
     "execution_count": 51,
     "metadata": {},
     "output_type": "execute_result"
    }
   ],
   "source": [
    "def normalizer(a):\n",
    "    list4 = ([])\n",
    "    for i in a:\n",
    "        list4.append(i/max(a))\n",
    "    return list4\n",
    "\n",
    "a = (3,4,5)\n",
    "\n",
    "normalizer(a)"
   ]
  },
  {
   "cell_type": "code",
   "execution_count": null,
   "id": "abfba517",
   "metadata": {},
   "outputs": [],
   "source": []
  }
 ],
 "metadata": {
  "kernelspec": {
   "display_name": "Python 3",
   "language": "python",
   "name": "python3"
  },
  "language_info": {
   "codemirror_mode": {
    "name": "ipython",
    "version": 3
   },
   "file_extension": ".py",
   "mimetype": "text/x-python",
   "name": "python",
   "nbconvert_exporter": "python",
   "pygments_lexer": "ipython3",
   "version": "3.8.8"
  }
 },
 "nbformat": 4,
 "nbformat_minor": 5
}
