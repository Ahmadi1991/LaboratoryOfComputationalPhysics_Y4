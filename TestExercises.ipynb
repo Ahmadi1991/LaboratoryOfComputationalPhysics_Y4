{
 "cells": [
  {
   "cell_type": "markdown",
   "id": "9f2bcfb6",
   "metadata": {},
   "source": [
    "## Exercise 1: MickeyMouse ✅"
   ]
  },
  {
   "cell_type": "code",
   "execution_count": 52,
   "id": "638cf6b5",
   "metadata": {},
   "outputs": [
    {
     "name": "stdout",
     "output_type": "stream",
     "text": [
      "[1, 2, 'Mickey', 4, 'Mouse', 'Mickey', 7, 8, 'Mickey', 'Mouse', 11, 'Mickey', 13, 14, 'MickeyMouse', 16, 17, 'Mickey', 19, 'Mouse', 'Mickey', 22, 23, 'Mickey', 'Mouse', 26, 'Mickey', 28, 29, 'MickeyMouse', 31, 32, 'Mickey', 34, 'Mouse', 'Mickey', 37, 38, 'Mickey', 'Mouse', 41, 'Mickey', 43, 44, 'MickeyMouse', 46, 47, 'Mickey', 49, 'Mouse', 'Mickey', 52, 53, 'Mickey', 'Mouse', 56, 'Mickey', 58, 59, 'MickeyMouse', 61, 62, 'Mickey', 64, 'Mouse', 'Mickey', 67, 68, 'Mickey', 'Mouse', 71, 'Mickey', 73, 74, 'MickeyMouse', 76, 77, 'Mickey', 79, 'Mouse', 'Mickey', 82, 83, 'Mickey', 'Mouse', 86, 'Mickey', 88, 89, 'MickeyMouse', 91, 92, 'Mickey', 94, 'Mouse', 'Mickey', 97, 98, 'Mickey', 'Mouse']\n"
     ]
    }
   ],
   "source": [
    "NoTuple = []\n",
    "for i in range(1, 101):\n",
    "    if i%5 == 0 and i%3 == 0:\n",
    "#        print('MickeyMouse')\n",
    "        NoTuple.append('MickeyMouse')\n",
    "    elif i%5 == 0:\n",
    "#        print('Mouse')\n",
    "        NoTuple.append('Mouse')\n",
    "    elif i%3 == 0:\n",
    "#        print('Mickey')\n",
    "        NoTuple.append('Mickey')    \n",
    "    else:\n",
    "#        print(i)\n",
    "        NoTuple.append(i)\n",
    "print(NoTuple)"
   ]
  },
  {
   "cell_type": "code",
   "execution_count": 53,
   "id": "68eea615",
   "metadata": {
    "scrolled": false
   },
   "outputs": [
    {
     "name": "stdout",
     "output_type": "stream",
     "text": [
      "[1, 2, 'Donald', 4, 'Duck', 'Donald', 7, 8, 'Donald', 'Duck', 11, 'Donald', 13, 14, 'MickeyMouse', 16, 17, 'Donald', 19, 'Duck', 'Donald', 22, 23, 'Donald', 'Duck', 26, 'Donald', 28, 29, 'MickeyMouse', 31, 32, 'Donald', 34, 'Duck', 'Donald', 37, 38, 'Donald', 'Duck', 41, 'Donald', 43, 44, 'MickeyMouse', 46, 47, 'Donald', 49, 'Duck', 'Donald', 52, 53, 'Donald', 'Duck', 56, 'Donald', 58, 59, 'MickeyMouse', 61, 62, 'Donald', 64, 'Duck', 'Donald', 67, 68, 'Donald', 'Duck', 71, 'Donald', 73, 74, 'MickeyMouse', 76, 77, 'Donald', 79, 'Duck', 'Donald', 82, 83, 'Donald', 'Duck', 86, 'Donald', 88, 89, 'MickeyMouse', 91, 92, 'Donald', 94, 'Duck', 'Donald', 97, 98, 'Donald', 'Duck']\n"
     ]
    }
   ],
   "source": [
    "for i in range(len(NoTuple)):\n",
    "    if NoTuple[i] == 'Mickey':\n",
    "        NoTuple[i] = 'Donald'\n",
    "    elif NoTuple[i] == 'Mouse':\n",
    "        NoTuple[i] = 'Duck'\n",
    "print(NoTuple)"
   ]
  },
  {
   "cell_type": "markdown",
   "id": "44f99364",
   "metadata": {},
   "source": [
    "## Exercise 2: Swap-Function ✅"
   ]
  },
  {
   "cell_type": "code",
   "execution_count": 55,
   "id": "d22d7edb",
   "metadata": {},
   "outputs": [
    {
     "name": "stdout",
     "output_type": "stream",
     "text": [
      "(5, 10)\n"
     ]
    }
   ],
   "source": [
    "def my_function(a, b):\n",
    "        return b, a\n",
    "\n",
    "x = 10\n",
    "y = 5\n",
    "\n",
    "my_function(x, y)\n",
    "\n",
    "print(my_function(x, y))"
   ]
  },
  {
   "cell_type": "markdown",
   "id": "f7210d0d",
   "metadata": {},
   "source": [
    "## Exercise 3: Computing distance ✅"
   ]
  },
  {
   "cell_type": "code",
   "execution_count": 68,
   "id": "bcdbe536",
   "metadata": {},
   "outputs": [
    {
     "data": {
      "text/plain": [
       "5.0"
      ]
     },
     "execution_count": 68,
     "metadata": {},
     "output_type": "execute_result"
    }
   ],
   "source": [
    "from math import sqrt\n",
    "\n",
    "def distance(a, b):\n",
    "    return sqrt((a[0]-b[0]) **2 + (a[1]-b[1]) **2)\n",
    " \n",
    "w = (0, 3)  \n",
    "v = (4, 0)\n",
    "\n",
    "distance(w, v)                "
   ]
  },
  {
   "cell_type": "markdown",
   "id": "2ac60006",
   "metadata": {},
   "source": [
    "## Exercise 4: Counting letters ✅"
   ]
  },
  {
   "cell_type": "code",
   "execution_count": 69,
   "id": "eb7211e0",
   "metadata": {},
   "outputs": [],
   "source": [
    "s=\"Write a program that prints the numbers from 1 to 100. \\\n",
    "But for multiples of three print Mickey instead of the number and for the multiples of five print Mouse. \\\n",
    "For numbers which are multiples of both three and five print MickeyMouse\""
   ]
  },
  {
   "cell_type": "code",
   "execution_count": 126,
   "id": "16233d0e",
   "metadata": {},
   "outputs": [
    {
     "name": "stdout",
     "output_type": "stream",
     "text": [
      "12\n"
     ]
    }
   ],
   "source": [
    "def counting(M, s):\n",
    "    counter = 0\n",
    "    for e in s.lower():\n",
    "            if e == M:\n",
    "                counter += 1\n",
    "    print(counter)\n",
    "                \n",
    "            \n",
    "\n",
    "counting('m', s)             "
   ]
  },
  {
   "cell_type": "markdown",
   "id": "a93f0f5b",
   "metadata": {},
   "source": [
    "## Exercise 5: Isolating the unique ✅"
   ]
  },
  {
   "cell_type": "code",
   "execution_count": 1,
   "id": "5482ea60",
   "metadata": {},
   "outputs": [],
   "source": [
    "l = [36, 45, 58, 3, 74, 96, 64, 45, 31, 10, 24, 19, 33, 86, 99, 18, 63, 70, 85,\n",
    " 85, 63, 47, 56, 42, 70, 84, 88, 55, 20, 54, 8, 56, 51, 79, 81, 57, 37, 91,\n",
    " 1, 84, 84, 36, 66, 9, 89, 50, 42, 91, 50, 95, 90, 98, 39, 16, 82, 31, 92, 41,\n",
    " 45, 30, 66, 70, 34, 85, 94, 5, 3, 36, 72, 91, 84, 34, 87, 75, 53, 51, 20, 89, 51, 20]"
   ]
  },
  {
   "cell_type": "code",
   "execution_count": 2,
   "id": "72602572",
   "metadata": {},
   "outputs": [
    {
     "name": "stdout",
     "output_type": "stream",
     "text": [
      "[36, 45, 58, 3, 74, 96, 64, 31, 10, 24, 19, 33, 86, 99, 18, 63, 70, 85, 47, 56, 42, 84, 88, 55, 20, 54, 8, 51, 79, 81, 57, 37, 91, 1, 66, 9, 89, 50, 95, 90, 98, 39, 16, 82, 92, 41, 30, 34, 94, 5, 72, 87, 75, 53]\n"
     ]
    }
   ],
   "source": [
    "def unique(l):\n",
    "    list = ([])\n",
    "    for i in l:\n",
    "        if i not in list:\n",
    "            list.append(i)\n",
    "    return list\n",
    "      \n",
    "print(unique(l))"
   ]
  },
  {
   "cell_type": "markdown",
   "id": "93758105",
   "metadata": {},
   "source": [
    "## Exercise 6: Combination of functions ✅"
   ]
  },
  {
   "cell_type": "code",
   "execution_count": 23,
   "id": "dff53544",
   "metadata": {},
   "outputs": [
    {
     "name": "stdout",
     "output_type": "stream",
     "text": [
      "64\n"
     ]
    }
   ],
   "source": [
    "def square(s):\n",
    "    return s **2\n",
    "\n",
    "def cube(s):\n",
    "    return s **3\n",
    "\n",
    "def sixth(s):\n",
    "    return square(cube(s))\n",
    "\n",
    "print(sixth(2))"
   ]
  },
  {
   "cell_type": "markdown",
   "id": "6db6c978",
   "metadata": {},
   "source": [
    "## Exercise 7: Cubes ✅"
   ]
  },
  {
   "cell_type": "code",
   "execution_count": 31,
   "id": "f40a18af",
   "metadata": {},
   "outputs": [
    {
     "name": "stdout",
     "output_type": "stream",
     "text": [
      "[0, 1, 8, 27, 64, 125, 216, 343, 512, 729, 1000]\n"
     ]
    }
   ],
   "source": [
    "def cube_loop():\n",
    "    list = ([])\n",
    "    for i in range(11):\n",
    "        list.append(i **3)\n",
    "    return list\n",
    "\n",
    "print(cube_loop())\n"
   ]
  },
  {
   "cell_type": "code",
   "execution_count": 49,
   "id": "b94b75d5",
   "metadata": {},
   "outputs": [
    {
     "name": "stdout",
     "output_type": "stream",
     "text": [
      "[0, 1, 8, 27, 64, 125, 216, 343, 512, 729, 1000]\n"
     ]
    }
   ],
   "source": [
    "def cube_list():\n",
    "    list = [*range(11)]\n",
    "    cube_list = [(i **3)for i in list]\n",
    "    return cube_list\n",
    "    \n",
    "print(cube_list())"
   ]
  },
  {
   "cell_type": "markdown",
   "id": "540dc9fd",
   "metadata": {},
   "source": [
    "## Exercise 8: Nested list comprehension ❗️"
   ]
  },
  {
   "cell_type": "code",
   "execution_count": 125,
   "id": "bbda4dd3",
   "metadata": {},
   "outputs": [
    {
     "name": "stdout",
     "output_type": "stream",
     "text": [
      "[(3, 4, 5), (4, 3, 5), (5, 12, 13), (6, 8, 10), (7, 24, 25), (8, 6, 10), (8, 15, 17), (9, 12, 15), (9, 40, 41), (10, 24, 26), (11, 60, 61), (12, 5, 13), (12, 9, 15), (12, 16, 20), (12, 35, 37), (13, 84, 85), (14, 48, 50), (15, 8, 17), (15, 20, 25), (15, 36, 39), (16, 12, 20), (16, 30, 34), (16, 63, 65), (18, 24, 30), (18, 80, 82), (20, 15, 25), (20, 21, 29), (20, 48, 52), (21, 20, 29), (21, 28, 35), (21, 72, 75), (24, 7, 25), (24, 10, 26), (24, 18, 30), (24, 32, 40), (24, 45, 51), (24, 70, 74), (25, 60, 65), (27, 36, 45), (28, 21, 35), (28, 45, 53), (30, 16, 34), (30, 40, 50), (30, 72, 78), (32, 24, 40), (32, 60, 68), (33, 44, 55), (33, 56, 65), (35, 12, 37), (35, 84, 91), (36, 15, 39), (36, 27, 45), (36, 48, 60), (36, 77, 85), (39, 52, 65), (39, 80, 89), (40, 9, 41), (40, 30, 50), (40, 42, 58), (40, 75, 85), (42, 40, 58), (42, 56, 70), (44, 33, 55), (45, 24, 51), (45, 28, 53), (45, 60, 75), (48, 14, 50), (48, 20, 52), (48, 36, 60), (48, 55, 73), (48, 64, 80), (51, 68, 85), (52, 39, 65), (54, 72, 90), (55, 48, 73), (56, 33, 65), (56, 42, 70), (57, 76, 95), (60, 11, 61), (60, 25, 65), (60, 32, 68), (60, 45, 75), (60, 63, 87), (63, 16, 65), (63, 60, 87), (64, 48, 80), (65, 72, 97), (68, 51, 85), (70, 24, 74), (72, 21, 75), (72, 30, 78), (72, 54, 90), (72, 65, 97), (75, 40, 85), (76, 57, 95), (77, 36, 85), (80, 18, 82), (80, 39, 89), (84, 13, 85), (84, 35, 91)]\n",
      "100\n"
     ]
    }
   ],
   "source": [
    "triple = ([(3,4,5)])\n",
    "more_triple = [(a, b, c) for a  in range(1, 100) for b in range(1, 100) for c in range(1, 100) if a **2 + b **2 == c ** 2]\n",
    "\n",
    "\n",
    "## need to remove the duplicates\n",
    "\n",
    "print(more_triple)\n",
    "print(len(more_triple))"
   ]
  },
  {
   "cell_type": "markdown",
   "id": "d1072598",
   "metadata": {},
   "source": [
    "## Exercise 9: Normalization ✅"
   ]
  },
  {
   "cell_type": "code",
   "execution_count": 122,
   "id": "8f8b77f0",
   "metadata": {},
   "outputs": [
    {
     "data": {
      "text/plain": [
       "[0.6, 0.8, 1.0]"
      ]
     },
     "execution_count": 122,
     "metadata": {},
     "output_type": "execute_result"
    }
   ],
   "source": [
    "def normalizer(a):\n",
    "    list = ([])\n",
    "    for i in a:\n",
    "        list.append(i/max(a))\n",
    "    return list\n",
    "\n",
    "a = (3,4,5)\n",
    "\n",
    "normalizer(a)"
   ]
  },
  {
   "cell_type": "code",
   "execution_count": null,
   "id": "abfba517",
   "metadata": {},
   "outputs": [],
   "source": []
  }
 ],
 "metadata": {
  "kernelspec": {
   "display_name": "Python 3",
   "language": "python",
   "name": "python3"
  },
  "language_info": {
   "codemirror_mode": {
    "name": "ipython",
    "version": 3
   },
   "file_extension": ".py",
   "mimetype": "text/x-python",
   "name": "python",
   "nbconvert_exporter": "python",
   "pygments_lexer": "ipython3",
   "version": "3.8.8"
  }
 },
 "nbformat": 4,
 "nbformat_minor": 5
}
