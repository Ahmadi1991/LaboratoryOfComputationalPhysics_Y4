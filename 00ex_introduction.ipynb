{
 "cells": [
  {
   "cell_type": "markdown",
   "metadata": {},
   "source": [
    "1\\. The MickeyMouse problem\n",
    "\n",
    "a) Write a program that prints the numbers from 1 to 100. But for multiples of three print Mickey instead of the number and for the multiples of five print Mouse. For numbers which are multiples of both three and five print MickeyMouse"
   ]
  },
  {
   "cell_type": "code",
   "execution_count": null,
   "metadata": {},
   "outputs": [],
   "source": [
    "name_tuple = ()\n",
    "for x in range(1, 101):\n",
    "    result = \"\"\n",
    "    if not x % 3:\n",
    "        result += \"Mickey\"\n",
    "    if not x % 5:\n",
    "        result += \"Mouse\"\n",
    "    name_tuple += (result,)\n",
    "    print(f\"{x}: {result}\")"
   ]
  },
  {
   "cell_type": "markdown",
   "metadata": {},
   "source": [
    "b) Put the result in a tuple and substitute Mickey with Donald and Mouse with Duck"
   ]
  },
  {
   "cell_type": "code",
   "execution_count": null,
   "metadata": {},
   "outputs": [],
   "source": [
    "# We use a list here, as the tuple has unmodifiable elements by definition.\n",
    "duck_list = list(name_tuple)\n",
    "length = len(duck_list)\n",
    "for i in range(length):\n",
    "    duck_list[i] = duck_list[i].replace(\"Mickey\", \"Donald\")\n",
    "    duck_list[i] = duck_list[i].replace(\"Mouse\", \"Duck\")\n",
    "for j in range(100):\n",
    "    print(f\"{j + 1} : {duck_list[j]}\")"
   ]
  },
  {
   "cell_type": "markdown",
   "metadata": {},
   "source": [
    "2\\. The swap function\n",
    "\n",
    "Write a function that swap the values of two input variables x and y (whatever the type). Try to do that also without a temporary variable"
   ]
  },
  {
   "cell_type": "code",
   "execution_count": null,
   "metadata": {},
   "outputs": [],
   "source": [
    "def swap(x, y):\n",
    "    x, y = y, x"
   ]
  },
  {
   "cell_type": "markdown",
   "metadata": {},
   "source": [
    "3\\. Computing the distance\n",
    "\n",
    "Write a function that calculates and returns the euclidean distance between two points *u* and *v*, where *u* and *v* are both 2-tuples *(x,y)*. For example, if *u=(3,0)* and *v=(0,4)*, the function should return 5"
   ]
  },
  {
   "cell_type": "code",
   "execution_count": null,
   "metadata": {},
   "outputs": [],
   "source": [
    "def euclidean_distance(p1, p2):\n",
    "    d2 = 0\n",
    "    for u, v in p1, p2:\n",
    "        d2 += (u - v) ** 2\n",
    "    return d2 ** 0.5"
   ]
  },
  {
   "cell_type": "markdown",
   "metadata": {},
   "source": [
    "4\\. Counting letters\n",
    "\n",
    "Write a program to calculate the number of times each character occurs in a given string *s*. Ignore differneces in capitalization"
   ]
  },
  {
   "cell_type": "code",
   "execution_count": null,
   "metadata": {},
   "outputs": [],
   "source": [
    "s=\"Write a program that prints the numbers from 1 to 100. \\\n",
    "But for multiples of three print Mickey instead of the number and for the multiples of five print Mouse. \\\n",
    "For numbers which are multiples of both three and five print MickeyMouse\"\n",
    "\n",
    "\n",
    "def char_count_and_print(string):\n",
    "    char_codes = {}\n",
    "    string = string.lower()\n",
    "    for c in string:\n",
    "        if c not in char_codes:\n",
    "            char_codes[c] = 1\n",
    "        else:\n",
    "            char_codes[c] += 1\n",
    "    for key, value in char_codes.items():\n",
    "        print(\"'\", key, \"'\", \":\", value, end=\"\\t\")\n",
    "\n",
    "\n",
    "char_count_and_print(s)"
   ]
  },
  {
   "cell_type": "markdown",
   "metadata": {},
   "source": [
    "5\\. Isolating the unique\n",
    "\n",
    "Write a function that determines and count the unique numbers in the list *l*"
   ]
  },
  {
   "cell_type": "code",
   "execution_count": null,
   "metadata": {},
   "outputs": [],
   "source": [
    "l = [36, 45, 58, 3, 74, 96, 64, 45, 31, 10, 24, 19, 33, 86, 99, 18, 63, 70, 85,\n",
    " 85, 63, 47, 56, 42, 70, 84, 88, 55, 20, 54, 8, 56, 51, 79, 81, 57, 37, 91,\n",
    " 1, 84, 84, 36, 66, 9, 89, 50, 42, 91, 50, 95, 90, 98, 39, 16, 82, 31, 92, 41,\n",
    " 45, 30, 66, 70, 34, 85, 94, 5, 3, 36, 72, 91, 84, 34, 87, 75, 53, 51, 20, 89, 51, 20]\n",
    "\n",
    "\n",
    "def list_count_and_print(num_list):\n",
    "    num_codes = {}\n",
    "    for x in num_list:\n",
    "        if x not in num_codes:\n",
    "            num_codes[x] = 1\n",
    "        else:\n",
    "            num_codes[x] += 1\n",
    "    for key, value in num_codes.items():\n",
    "        print(\"'\", key, \"'\", \":\", value, end=\"\\t\")\n",
    "\n",
    "\n",
    "list_count_and_print(l)"
   ]
  },
  {
   "cell_type": "markdown",
   "metadata": {},
   "source": [
    "6\\. Combination of functions\n",
    "\n",
    "Write two functions - one that returns the square of a number, and one that returns the cube. Now write a third function that returns the number raised to the 6th power using the two previous functions."
   ]
  },
  {
   "cell_type": "code",
   "execution_count": null,
   "metadata": {
    "scrolled": true
   },
   "outputs": [],
   "source": [
    "def square(x):\n",
    "    return x ** 2\n",
    "\n",
    "\n",
    "def cube(x):\n",
    "    return x ** 3\n",
    "\n",
    "\n",
    "def sixth_power(x):\n",
    "    return cube(square(x))"
   ]
  },
  {
   "cell_type": "markdown",
   "metadata": {},
   "source": [
    "7\\. Cubes\n",
    "\n",
    "Create a list of the cubes of x for x in *[0, 10]* using:\n",
    "\n",
    "a) a for loop"
   ]
  },
  {
   "cell_type": "code",
   "execution_count": null,
   "metadata": {},
   "outputs": [],
   "source": [
    "cubes_for_list = []\n",
    "for x in range(11):\n",
    "    cubes_for_list.append(cube(x))\n",
    "print(\"For loop:\", cubes_for_list)"
   ]
  },
  {
   "cell_type": "markdown",
   "metadata": {},
   "source": [
    "b) a list comprehension"
   ]
  },
  {
   "cell_type": "code",
   "execution_count": null,
   "metadata": {},
   "outputs": [],
   "source": [
    "cubes_comprehension_list = [cube(x) for x in range(11)]\n",
    "print(\"Cmphsion:\", cubes_comprehension_list)"
   ]
  },
  {
   "cell_type": "markdown",
   "metadata": {},
   "source": [
    "8\\. Nested list comprehension\n",
    "\n",
    "A Pythagorean triple is an integer solution to the Pythagorean theorem $a^2+b^2=c^2$. The first Pythagorean triple is (3,4,5). Find and put in a tuple all unique Pythagorean triples for the positive integers a, b and c less than 100."
   ]
  },
  {
   "cell_type": "markdown",
   "metadata": {},
   "source": [
    "We understand \"unique\" Pythagorean as the \"primitive\" Pythagorean triplets, i.e., the triples that are not of the form: $$(a,b,c) = k(a^{'},b^{'},c^{'}) \\textrm{           with          } k \\textrm{            positive integer}$$"
   ]
  },
  {
   "cell_type": "code",
   "execution_count": null,
   "metadata": {},
   "outputs": [],
   "source": [
    "pythagorean_triplets = ()\n",
    "for a in range(1, 100):\n",
    "    # Because of the symmetry a <-> b, we constrain b <= a.\n",
    "    for b in range(1, a+1):\n",
    "        c = (a ** 2 + b ** 2) ** 0.5\n",
    "        if not c - int(c) and c < 100:\n",
    "            # Avoid non-primitive triplets\n",
    "            for element in pythagorean_triplets:\n",
    "                if a / element[0] == b / element[1] == int(c) / element[2]:\n",
    "                    break\n",
    "            else:\n",
    "                pythagorean_triplets += ([a, b, int(c)],)\n",
    "print(*pythagorean_triplets, sep=\"\\t\")"
   ]
  },
  {
   "cell_type": "markdown",
   "metadata": {},
   "source": [
    "9\\. Normalization\n",
    "\n",
    "Write a function that takes a tuple of numbers and returns it with the entries normalized to one"
   ]
  },
  {
   "cell_type": "code",
   "execution_count": null,
   "metadata": {},
   "outputs": [],
   "source": [
    "# We return a new list, as the original tuple is unmodifiable by definition.\n",
    "def normalize(vector):\n",
    "    modulus = 0\n",
    "    for component in vector:\n",
    "        modulus += component ** 2\n",
    "    modulus **= 0.5\n",
    "    return [component / modulus for component in vector]"
   ]
  },
  {
   "cell_type": "code",
   "execution_count": null,
   "metadata": {},
   "outputs": [],
   "source": []
  }
 ],
 "metadata": {
  "kernelspec": {
   "display_name": "Python 3 (ipykernel)",
   "language": "python",
   "name": "python3"
  },
  "language_info": {
   "codemirror_mode": {
    "name": "ipython",
    "version": 3
   },
   "file_extension": ".py",
   "mimetype": "text/x-python",
   "name": "python",
   "nbconvert_exporter": "python",
   "pygments_lexer": "ipython3",
   "version": "3.9.7"
  }
 },
 "nbformat": 4,
 "nbformat_minor": 2
}
